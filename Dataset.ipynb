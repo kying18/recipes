{
 "cells": [
  {
   "cell_type": "code",
   "execution_count": 1,
   "metadata": {},
   "outputs": [],
   "source": [
    "import numpy as np"
   ]
  },
  {
   "cell_type": "code",
   "execution_count": 9,
   "metadata": {},
   "outputs": [],
   "source": [
    "data = np.load('dataset.npz', allow_pickle=True)"
   ]
  },
  {
   "cell_type": "code",
   "execution_count": 4,
   "metadata": {},
   "outputs": [
    {
     "data": {
      "text/plain": [
       "['ingredients', 'recipes']"
      ]
     },
     "execution_count": 4,
     "metadata": {},
     "output_type": "execute_result"
    }
   ],
   "source": [
    "data.files"
   ]
  },
  {
   "cell_type": "code",
   "execution_count": 6,
   "metadata": {},
   "outputs": [
    {
     "data": {
      "text/plain": [
       "array(['salt', 'pepper', 'butter', ..., 'watercress leaves',\n",
       "       'emerils essence', 'corn flakes cereal'], dtype='<U39')"
      ]
     },
     "execution_count": 6,
     "metadata": {},
     "output_type": "execute_result"
    }
   ],
   "source": [
    "data['ingredients']"
   ]
  },
  {
   "cell_type": "code",
   "execution_count": 10,
   "metadata": {},
   "outputs": [
    {
     "data": {
      "text/plain": [
       "array([array([ 233, 2754,   42,  120,  560,  345,  150, 2081,   12,   21]),\n",
       "       array([ 198,  249,    2,  194, 1884,  791,  965,  423,   53,   48,  798,\n",
       "         31,  362, 1031,   94,   26,    8]),\n",
       "       array([ 328,  263,   62,   46,  445,   55, 1196,   82,  664,    3,  602,\n",
       "         10,    7,    6,    1,  128,   61,  141,    0,  262,  140,  655,\n",
       "         21,    8,   23,   84]),\n",
       "       ...,\n",
       "       array([  72,  155, 1603,  402,    3,   79,  330,   76,    6, 1102,   60,\n",
       "         44,   58]),\n",
       "       array([ 28,   2, 247,  47,   0,   4, 348,   8]),\n",
       "       array([  72,  208,   89,    2, 1491, 1725,   19,   64,   82,  202,  173,\n",
       "          3,    9,  106,   42,   10,    7,   31,    1,  150,   70,  201,\n",
       "         23,   84,  102])], dtype=object)"
      ]
     },
     "execution_count": 10,
     "metadata": {},
     "output_type": "execute_result"
    }
   ],
   "source": [
    "data['recipes']"
   ]
  },
  {
   "cell_type": "code",
   "execution_count": null,
   "metadata": {},
   "outputs": [],
   "source": []
  }
 ],
 "metadata": {
  "kernelspec": {
   "display_name": "Python 3",
   "language": "python",
   "name": "python3"
  },
  "language_info": {
   "codemirror_mode": {
    "name": "ipython",
    "version": 3
   },
   "file_extension": ".py",
   "mimetype": "text/x-python",
   "name": "python",
   "nbconvert_exporter": "python",
   "pygments_lexer": "ipython3",
   "version": "3.8.6"
  }
 },
 "nbformat": 4,
 "nbformat_minor": 4
}
