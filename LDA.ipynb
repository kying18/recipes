{
 "cells": [
  {
   "cell_type": "code",
   "execution_count": 18,
   "metadata": {},
   "outputs": [],
   "source": [
    "import numpy as np\n",
    "import scipy.sparse\n",
    "\n",
    "from sklearn.decomposition import LatentDirichletAllocation as LDA\n",
    "\n",
    "import matplotlib.pyplot as plt\n",
    "import seaborn as sns"
   ]
  },
  {
   "cell_type": "code",
   "execution_count": 4,
   "metadata": {},
   "outputs": [],
   "source": [
    "data = np.load('dataset.npz', allow_pickle=True)"
   ]
  },
  {
   "cell_type": "code",
   "execution_count": 11,
   "metadata": {},
   "outputs": [],
   "source": [
    "raw_ingredients = data[\"ingredients\"]"
   ]
  },
  {
   "cell_type": "code",
   "execution_count": 24,
   "metadata": {},
   "outputs": [],
   "source": [
    "all_recipes = data[\"recipes\"]"
   ]
  },
  {
   "cell_type": "code",
   "execution_count": 47,
   "metadata": {},
   "outputs": [],
   "source": [
    "raw_recipes = all_recipes[:50000]"
   ]
  },
  {
   "cell_type": "code",
   "execution_count": 48,
   "metadata": {},
   "outputs": [],
   "source": [
    "recipes = scipy.sparse.dok_matrix((len(raw_recipes), len(raw_ingredients)), dtype=np.int)\n",
    "\n",
    "for recipe_index, recipe in enumerate(raw_recipes):\n",
    "    for ingredient_index in recipe:\n",
    "        recipes[recipe_index, ingredient_index] = 1"
   ]
  },
  {
   "cell_type": "code",
   "execution_count": 49,
   "metadata": {},
   "outputs": [],
   "source": [
    "recipes = scipy.sparse.csr_matrix(recipes)"
   ]
  },
  {
   "cell_type": "code",
   "execution_count": 52,
   "metadata": {},
   "outputs": [],
   "source": [
    "lda = LDA(n_components = 20)"
   ]
  },
  {
   "cell_type": "code",
   "execution_count": 53,
   "metadata": {},
   "outputs": [
    {
     "data": {
      "text/plain": [
       "LatentDirichletAllocation(n_components=20)"
      ]
     },
     "execution_count": 53,
     "metadata": {},
     "output_type": "execute_result"
    }
   ],
   "source": [
    "lda.fit(recipes)"
   ]
  },
  {
   "cell_type": "code",
   "execution_count": 56,
   "metadata": {},
   "outputs": [],
   "source": [
    "def print_topics(model, ingredients, n_top_words):\n",
    "    words = ingredients\n",
    "    for topic_idx, topic in enumerate(model.components_):\n",
    "        print(\"\\nTopic #%d:\" % topic_idx)\n",
    "        print(\" | \".join([words[i]\n",
    "                        for i in topic.argsort()[:-n_top_words - 1:-1]]))"
   ]
  },
  {
   "cell_type": "code",
   "execution_count": 57,
   "metadata": {},
   "outputs": [
    {
     "name": "stdout",
     "output_type": "stream",
     "text": [
      "\n",
      "Topic #0:\n",
      "parmesan | parmesan cheese | garlic | pepper | grated parmesan cheese | mozzarella | basil | tomato | ground | mozzarella cheese\n",
      "\n",
      "Topic #1:\n",
      "cilantro | garlic | salt | ground | powder | ground cumin | onion | tomatoes | pepper | juice\n",
      "\n",
      "Topic #2:\n",
      "cream | salt | butter | pepper | heavy cream | flour | eggs | sour cream | black pepper | milk\n",
      "\n",
      "Topic #3:\n",
      "sugar | cinnamon | brown sugar | butter | ground cinnamon | cream | vanilla | apples | ground | water\n",
      "\n",
      "Topic #4:\n",
      "sugar | flour | salt | butter | powder | extract | eggs | vanilla extract | baking powder | soda\n",
      "\n",
      "Topic #5:\n",
      "salt | pepper | olive oil | olive | garlic | powder | black pepper | ground | paprika | fillets\n",
      "\n",
      "Topic #6:\n",
      "sugar | mustard | salt | vinegar | sauce | water | brown sugar | worcestershire sauce | yeast | flour\n",
      "\n",
      "Topic #7:\n",
      "olive | olive oil | garlic | pepper | tomatoes | virgin olive oil | extra virgin olive oil | salt | sliced | cheese\n",
      "\n",
      "Topic #8:\n",
      "sauce | soy sauce | sesame | garlic | ginger | sugar | sesame oil | pepper | sliced | vinegar\n",
      "\n",
      "Topic #9:\n",
      "milk | butter | eggs | cheese | flour | salt | cheddar | cheddar cheese | bread | egg\n",
      "\n",
      "Topic #10:\n",
      "chicken | chicken breasts | onion | pepper | cream | salt | butter | boneless skinless chicken | mushroom | skinless chicken breasts\n",
      "\n",
      "Topic #11:\n",
      "cream cheese | chocolate | cheese | sugar | butter | vanilla | milk | cream | instant | cake\n",
      "\n",
      "Topic #12:\n",
      "pepper | onion | bell pepper | chicken | beans | chicken broth | garlic | salt | tomatoes | rice\n",
      "\n",
      "Topic #13:\n",
      "cheese | cheddar | cheddar cheese | onion | sour cream | mayonnaise | dressing | cream | tortillas | sliced\n",
      "\n",
      "Topic #14:\n",
      "juice | pineapple | lime juice | ice | water | sugar | lime | garnish | vodka | pineapple juice\n",
      "\n",
      "Topic #15:\n",
      "pepper | garlic | salt | wine | chicken | onion | thyme | carrots | onions | white\n",
      "\n",
      "Topic #16:\n",
      "pepper | black pepper | garlic | cayenne | cayenne pepper | ground | salt | white | butter | ground black pepper\n",
      "\n",
      "Topic #17:\n",
      "orange | orange juice | almonds | sugar | honey | cranberries | orange zest | oranges | sliced | toasted\n",
      "\n",
      "Topic #18:\n",
      "lemon | lemon juice | lemon zest | water | sugar | salt | grated lemon zest | lemons | juice | lemon peel\n",
      "\n",
      "Topic #19:\n",
      "pepper | kosher salt | kosher | olive | olive oil | black pepper | ground | vinegar | ground black pepper | wine vinegar\n"
     ]
    }
   ],
   "source": [
    "print_topics(lda, raw_ingredients, 10)"
   ]
  },
  {
   "cell_type": "code",
   "execution_count": null,
   "metadata": {},
   "outputs": [],
   "source": []
  }
 ],
 "metadata": {
  "kernelspec": {
   "display_name": "Python 3",
   "language": "python",
   "name": "python3"
  },
  "language_info": {
   "codemirror_mode": {
    "name": "ipython",
    "version": 3
   },
   "file_extension": ".py",
   "mimetype": "text/x-python",
   "name": "python",
   "nbconvert_exporter": "python",
   "pygments_lexer": "ipython3",
   "version": "3.7.7"
  }
 },
 "nbformat": 4,
 "nbformat_minor": 4
}
