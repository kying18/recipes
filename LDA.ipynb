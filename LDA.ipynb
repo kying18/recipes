{
 "cells": [
  {
   "cell_type": "code",
   "execution_count": 1,
   "metadata": {},
   "outputs": [],
   "source": [
    "import numpy as np\n",
    "import scipy.sparse\n",
    "\n",
    "from sklearn.decomposition import LatentDirichletAllocation as LDA\n",
    "\n",
    "import matplotlib.pyplot as plt\n",
    "import seaborn as sns\n"
   ]
  },
  {
   "cell_type": "code",
   "execution_count": 152,
   "metadata": {},
   "outputs": [],
   "source": [
    "NUM_RECIPES = 50000\n",
    "NUM_INGREDIENTS = 200"
   ]
  },
  {
   "cell_type": "code",
   "execution_count": 153,
   "metadata": {},
   "outputs": [],
   "source": [
    "data = np.load('dataset.npz', allow_pickle=True)"
   ]
  },
  {
   "cell_type": "code",
   "execution_count": 154,
   "metadata": {},
   "outputs": [],
   "source": [
    "raw_ingredients = data[\"ingredients\"][:NUM_INGREDIENTS]"
   ]
  },
  {
   "cell_type": "code",
   "execution_count": 155,
   "metadata": {},
   "outputs": [],
   "source": [
    "all_recipes = data[\"recipes\"]"
   ]
  },
  {
   "cell_type": "code",
   "execution_count": 156,
   "metadata": {},
   "outputs": [],
   "source": [
    "raw_recipes = all_recipes[:NUM_RECIPES]"
   ]
  },
  {
   "cell_type": "code",
   "execution_count": 157,
   "metadata": {},
   "outputs": [],
   "source": [
    "ingredient_counts = np.zeros(3500)\n",
    "for recipe_index, recipe in enumerate(raw_recipes):\n",
    "    for ingredient_index in recipe:\n",
    "        ingredient_counts[ingredient_index] += 1"
   ]
  },
  {
   "cell_type": "code",
   "execution_count": 158,
   "metadata": {},
   "outputs": [
    {
     "data": {
      "image/png": "[encoded data removed]",
      "text/plain": [
       "<Figure size 432x288 with 1 Axes>"
      ]
     },
     "metadata": {
      "needs_background": "light"
     },
     "output_type": "display_data"
    }
   ],
   "source": [
    "# Frequency of ingredients as a function of their index\n",
    "plt.figure()\n",
    "plt.plot(ingredient_counts[:1000])\n",
    "plt.show()"
   ]
  },
  {
   "cell_type": "code",
   "execution_count": 159,
   "metadata": {},
   "outputs": [],
   "source": [
    "recipes = scipy.sparse.dok_matrix((NUM_RECIPES, NUM_INGREDIENTS), dtype=np.int)\n",
    "\n",
    "for recipe_index, recipe in enumerate(raw_recipes):\n",
    "    for ingredient_index in recipe:\n",
    "        if ingredient_index < NUM_INGREDIENTS:\n",
    "            recipes[recipe_index, ingredient_index] = 1"
   ]
  },
  {
   "cell_type": "code",
   "execution_count": 160,
   "metadata": {},
   "outputs": [],
   "source": [
    "recipes = scipy.sparse.csr_matrix(recipes)"
   ]
  },
  {
   "cell_type": "code",
   "execution_count": 161,
   "metadata": {},
   "outputs": [],
   "source": [
    "lda = LDA(n_components = 20)"
   ]
  },
  {
   "cell_type": "code",
   "execution_count": 162,
   "metadata": {},
   "outputs": [
    {
     "data": {
      "text/plain": [
       "LatentDirichletAllocation(n_components=20)"
      ]
     },
     "execution_count": 162,
     "metadata": {},
     "output_type": "execute_result"
    }
   ],
   "source": [
    "lda.fit(recipes)"
   ]
  },
  {
   "cell_type": "code",
   "execution_count": 180,
   "metadata": {},
   "outputs": [],
   "source": [
    "random_recipe = np.zeros((1, NUM_INGREDIENTS))\n",
    "random_recipe[:, 123] = 1\n",
    "random_recipe[:, 115] = 1\n",
    "random_recipe[:, 19] = 1\n",
    "random_recipe[:, 102] = 1\n",
    "random_recipe[:, 14] = 1\n",
    "random_recipe[:, 134] = 1\n",
    "random_recipe[:, 141] = 1\n",
    "random_recipe[:, 131] = 1\n",
    "random_recipe[:, 31] = 1\n",
    "random_recipe[:, 124] = 1"
   ]
  },
  {
   "cell_type": "code",
   "execution_count": 169,
   "metadata": {},
   "outputs": [],
   "source": [
    "def print_topics(model, ingredients, n_top_words):\n",
    "    words = ingredients\n",
    "    for topic_idx, topic in enumerate(model.components_):\n",
    "        print(\"\\nTopic #%d:\" % topic_idx)\n",
    "        print(\" | \".join([words[i]\n",
    "                        for i in topic.argsort()[:-n_top_words - 1:-1]]))"
   ]
  },
  {
   "cell_type": "code",
   "execution_count": 221,
   "metadata": {},
   "outputs": [],
   "source": [
    "def print_recipe(ingredients, recipe):\n",
    "    indices = recipe.indices\n",
    "    for i in indices:\n",
    "        print(ingredients[i])"
   ]
  },
  {
   "cell_type": "code",
   "execution_count": 223,
   "metadata": {},
   "outputs": [
    {
     "name": "stdout",
     "output_type": "stream",
     "text": [
      "cheese\n",
      "cream\n",
      "garlic\n",
      "garlic powder\n",
      "lemon\n",
      "lemon juice\n",
      "onion\n",
      "pepper\n",
      "salt\n",
      "sauce\n",
      "sour cream\n",
      "worcestershire sauce\n"
     ]
    }
   ],
   "source": [
    "print_recipe(raw_ingredients, recipes[10])"
   ]
  },
  {
   "cell_type": "code",
   "execution_count": 171,
   "metadata": {},
   "outputs": [],
   "source": [
    "scores = []\n",
    "lengths = []\n",
    "for ind in range(int(recipes.shape[0]/10)):\n",
    "    lengths.append(recipes[ind].getnnz())\n",
    "    scores.append(lda.score(recipes[ind]))"
   ]
  },
  {
   "cell_type": "code",
   "execution_count": 172,
   "metadata": {},
   "outputs": [
    {
     "data": {
      "image/png": "[encoded data removed]",
      "text/plain": [
       "<Figure size 432x288 with 1 Axes>"
      ]
     },
     "metadata": {
      "needs_background": "light"
     },
     "output_type": "display_data"
    }
   ],
   "source": [
    "plt.figure()\n",
    "plt.scatter(lengths, scores, marker=\".\")\n",
    "plt.show()"
   ]
  },
  {
   "cell_type": "code",
   "execution_count": 200,
   "metadata": {},
   "outputs": [],
   "source": [
    "def generate_recommendation(lda, recipe):\n",
    "    best_score, best_index = float(\"-inf\"), None\n",
    "    for i in range(NUM_INGREDIENTS):\n",
    "        modified_recipe = recipe[:, :]\n",
    "        if modified_recipe[:, i]:\n",
    "            continue\n",
    "        else:\n",
    "            modified_recipe[:, i] = 1\n",
    "            new_score = lda.score(modified_recipe)\n",
    "            if new_score > best_score:\n",
    "                best_score = new_score\n",
    "                best_index = i\n",
    "                print(\"New best score: \", best_score)\n",
    "\n",
    "    returned_recipe = recipe[:, :]\n",
    "    returned_recipe[:, best_index] = 1\n",
    "    return returned_recipe, best_index"
   ]
  },
  {
   "cell_type": "code",
   "execution_count": 234,
   "metadata": {},
   "outputs": [
    {
     "name": "stdout",
     "output_type": "stream",
     "text": [
      "New best score:  -7325.3773265551\n",
      "New best score:  -7323.857625511993\n",
      "New best score:  -7323.612493799758\n",
      "\n",
      "basil\n",
      "butter\n",
      "chicken\n",
      "chives\n",
      "cilantro\n",
      "green\n",
      "leaves\n",
      "lettuce\n",
      "noodles\n",
      "peanut butter\n",
      "pork\n",
      "sauce\n",
      "shrimp\n",
      "sugar\n",
      "unsweetened\n",
      "\n",
      "New ingredient:\n",
      "garlic\n"
     ]
    }
   ],
   "source": [
    "i = 10324\n",
    "new_recipe, ind = generate_recommendation(lda, recipes[i])\n",
    "print()\n",
    "print_recipe(raw_ingredients, recipes[i])\n",
    "print()\n",
    "print(\"New ingredient:\")\n",
    "print(raw_ingredients[ind])"
   ]
  },
  {
   "cell_type": "code",
   "execution_count": 195,
   "metadata": {},
   "outputs": [
    {
     "data": {
      "text/plain": [
       "<1x200 sparse matrix of type '<class 'numpy.int64'>'\n",
       "\twith 10 stored elements in Compressed Sparse Row format>"
      ]
     },
     "execution_count": 195,
     "metadata": {},
     "output_type": "execute_result"
    }
   ],
   "source": []
  },
  {
   "cell_type": "code",
   "execution_count": 174,
   "metadata": {},
   "outputs": [
    {
     "name": "stdout",
     "output_type": "stream",
     "text": [
      "\n",
      "Topic #0:\n",
      "lemon | lemon juice | cayenne | pepper | garlic | cayenne pepper | salt | paprika | black pepper | garlic powder\n",
      "\n",
      "Topic #1:\n",
      "flour | salt | sugar | soda | butter | eggs | powder | baking soda | baking powder | water\n",
      "\n",
      "Topic #2:\n",
      "sauce | onion | worcestershire sauce | pepper | ground | salt | ground beef | water | garlic | sugar\n",
      "\n",
      "Topic #3:\n",
      "olive | olive oil | garlic | salt | lemon | virgin olive oil | extra virgin olive oil | pepper | lemon juice | garlic cloves\n",
      "\n",
      "Topic #4:\n",
      "extract | vanilla extract | sugar | butter | flour | powder | salt | eggs | baking powder | milk\n",
      "\n",
      "Topic #5:\n",
      "garlic | pepper | ground pepper | carrots | salt | onion | celery | garlic cloves | thyme | olive\n",
      "\n",
      "Topic #6:\n",
      "cream | cheddar | cheddar cheese | sour cream | pepper | onion | cheese | milk | salt | butter\n",
      "\n",
      "Topic #7:\n",
      "vegetable | vegetable oil | flour | salt | water | eggs | white | sugar | milk | cooking spray\n",
      "\n",
      "Topic #8:\n",
      "parmesan | parmesan cheese | grated parmesan cheese | garlic | pepper | pasta | salt | butter | olive oil | olive\n",
      "\n",
      "Topic #9:\n",
      "sauce | soy sauce | ginger | sesame | garlic | sugar | sesame oil | sliced | onions | pepper\n",
      "\n",
      "Topic #10:\n",
      "butter | pepper | white | chicken | salt | black pepper | white wine | flour | unsalted butter | onion\n",
      "\n",
      "Topic #11:\n",
      "chicken | chicken breasts | boneless | chicken broth | boneless skinless chicken | chicken breast | onion | dressing | pepper | sliced\n",
      "\n",
      "Topic #12:\n",
      "vinegar | mustard | wine vinegar | dijon mustard | sugar | salt | pepper | cider vinegar | balsamic vinegar | red wine\n",
      "\n",
      "Topic #13:\n",
      "cilantro | powder | garlic | juice | salt | chili powder | onion | ground | tomatoes | lime juice\n",
      "\n",
      "Topic #14:\n",
      "pepper | red pepper | garlic | tomatoes | oregano | olive | olive oil | onion | tomato | basil\n",
      "\n",
      "Topic #15:\n",
      "chocolate | vanilla | sugar | instant | milk | cream | water | butter | chocolate chips | coconut\n",
      "\n",
      "Topic #16:\n",
      "cinnamon | sugar | brown sugar | ground cinnamon | butter | packed | ground | apples | raisins | apple\n",
      "\n",
      "Topic #17:\n",
      "cheese | cream cheese | bread | butter | eggs | milk | sliced | yogurt | egg | crumbs\n",
      "\n",
      "Topic #18:\n",
      "cream | sugar | orange | heavy cream | lemon | egg | orange juice | butter | water | lemon juice\n",
      "\n",
      "Topic #19:\n",
      "black pepper | ground black pepper | ground | kosher salt | kosher | pepper | canola | canola oil | sliced | plus\n"
     ]
    }
   ],
   "source": [
    "print_topics(lda, raw_ingredients, 10)"
   ]
  },
  {
   "cell_type": "code",
   "execution_count": null,
   "metadata": {},
   "outputs": [],
   "source": []
  }
 ],
 "metadata": {
  "kernelspec": {
   "display_name": "Python 3",
   "language": "python",
   "name": "python3"
  },
  "language_info": {
   "codemirror_mode": {
    "name": "ipython",
    "version": 3
   },
   "file_extension": ".py",
   "mimetype": "text/x-python",
   "name": "python",
   "nbconvert_exporter": "python",
   "pygments_lexer": "ipython3",
   "version": "3.7.9"
  }
 },
 "nbformat": 4,
 "nbformat_minor": 4
}
