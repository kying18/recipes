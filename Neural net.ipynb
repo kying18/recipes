{
 "cells": [
  {
   "cell_type": "code",
   "execution_count": 1,
   "metadata": {},
   "outputs": [],
   "source": [
    "import pickle as pkl\n",
    "import numpy as np\n",
    "import pandas as pd\n",
    "import matplotlib.pyplot as plt\n",
    "import torch\n",
    "import torch.nn as nn\n",
    "import torch.nn.functional as F\n",
    "import torch.optim as optim\n",
    "from tqdm import tqdm_notebook as tqdm\n",
    "from torchvision import datasets, transforms\n",
    "import torch.utils.data as data_utils"
   ]
  },
  {
   "cell_type": "markdown",
   "metadata": {},
   "source": [
    "## getting train/valid/test data"
   ]
  },
  {
   "cell_type": "code",
   "execution_count": 46,
   "metadata": {},
   "outputs": [],
   "source": [
    "data = np.load('dataset.npz', allow_pickle=True)\n",
    "ingredients = data['ingredients']\n",
    "recipes = data['recipes']\n",
    "vectorized_len = np.vectorize(len)\n",
    "recipes = recipes[vectorized_len(recipes) > 0]\n",
    "\n",
    "def split_train_val_test(recipes, train=0.8, val=0.1):\n",
    "    shuffled = np.random.RandomState(0).permutation(recipes)\n",
    "    n_train = int(len(shuffled) * train)\n",
    "    n_val = int(len(shuffled) * val)\n",
    "    return shuffled[:n_train], shuffled[n_train: n_train + n_val], shuffled[-n_val:]\n",
    "\n",
    "train_recipes, val_recipes, test_recipes = split_train_val_test(recipes)"
   ]
  },
  {
   "cell_type": "code",
   "execution_count": 47,
   "metadata": {
    "scrolled": true
   },
   "outputs": [
    {
     "data": {
      "text/plain": [
       "array([array([ 219,  212,   46, 1133,  222,  657, 1343, 1014,   73,  140,   26,\n",
       "          8,  286]),\n",
       "       array([  77,  967, 3002,  199,    2,    3,   98,   18, 1477,   25,  895,\n",
       "          1,  157,    0,    8]),\n",
       "       array([  14,  134,  147,    3,   33,    9,   30, 3275,    1,   73,  511,\n",
       "       1597]),\n",
       "       array([198, 233,  14,   3,  33,  42, 120, 151,  10,   7,   1,   0,  21,\n",
       "        26]),\n",
       "       array([167,  52,  32,  13,   5, 224,  71,   0,  43,   4,  36])],\n",
       "      dtype=object)"
      ]
     },
     "execution_count": 47,
     "metadata": {},
     "output_type": "execute_result"
    }
   ],
   "source": [
    "train_recipes[:5]"
   ]
  },
  {
   "cell_type": "markdown",
   "metadata": {},
   "source": [
    "## neural net woooooo"
   ]
  },
  {
   "cell_type": "code",
   "execution_count": 50,
   "metadata": {},
   "outputs": [],
   "source": [
    "# we need to convert our data into one-hot encoding\n",
    "def convert_one_hot(array):\n",
    "    # here i'm getting an array of zeros\n",
    "    # num rows is the size of the input array (ie how many recipes)\n",
    "    # num cols is num of ingredients total (so we can 1-hot them)\n",
    "    one_hot = np.zeros((len(array), len(ingredients)))\n",
    "    \n",
    "    for i in range(len(array)):\n",
    "        if len(array[i]) > 0:\n",
    "            # this is just indexing into the ith row of the array (ith recipe)\n",
    "            # and saying all the values in the recipe we're gonna set to 1\n",
    "            one_hot[i][array[i]] = 1\n",
    "        else:\n",
    "            print(\"shouldn't get here ever\")\n",
    "        \n",
    "    return one_hot"
   ]
  },
  {
   "cell_type": "code",
   "execution_count": 51,
   "metadata": {},
   "outputs": [],
   "source": [
    "train_one_hot = convert_one_hot(train_recipes)\n",
    "val_one_hot = convert_one_hot(val_recipes)\n",
    "test_one_hot = convert_one_hot(test_recipes)"
   ]
  },
  {
   "cell_type": "code",
   "execution_count": null,
   "metadata": {},
   "outputs": [],
   "source": []
  }
 ],
 "metadata": {
  "kernelspec": {
   "display_name": "Python 3",
   "language": "python",
   "name": "python3"
  },
  "language_info": {
   "codemirror_mode": {
    "name": "ipython",
    "version": 3
   },
   "file_extension": ".py",
   "mimetype": "text/x-python",
   "name": "python",
   "nbconvert_exporter": "python",
   "pygments_lexer": "ipython3",
   "version": "3.8.6"
  }
 },
 "nbformat": 4,
 "nbformat_minor": 4
}
