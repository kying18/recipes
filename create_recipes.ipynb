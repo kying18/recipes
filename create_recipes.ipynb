{
 "cells": [
  {
   "cell_type": "code",
   "execution_count": 1,
   "metadata": {},
   "outputs": [],
   "source": [
    "import numpy as np\n",
    "import scipy.sparse\n",
    "\n",
    "from sklearn.decomposition import LatentDirichletAllocation as LDA\n",
    "\n",
    "import matplotlib.pyplot as plt\n",
    "import seaborn as sns"
   ]
  },
  {
   "cell_type": "code",
   "execution_count": 2,
   "metadata": {},
   "outputs": [],
   "source": [
    "data = np.load('dataset.npz', allow_pickle=True)"
   ]
  },
  {
   "cell_type": "code",
   "execution_count": 3,
   "metadata": {},
   "outputs": [],
   "source": [
    "raw_ingredients = data[\"ingredients\"]"
   ]
  },
  {
   "cell_type": "code",
   "execution_count": 5,
   "metadata": {},
   "outputs": [],
   "source": [
    "ingredients = {ing: i for i, ing in enumerate(raw_ingredients)}"
   ]
  },
  {
   "cell_type": "code",
   "execution_count": 8,
   "metadata": {},
   "outputs": [],
   "source": [
    "def find_possible_matches(ingredient_identifier):\n",
    "    print(\"Matches for ingredient identifier:\")\n",
    "    for ingredient, index in ingredients.items():\n",
    "        if ingredient_identifier in ingredient:\n",
    "            print(\"{} : {}\".format(ingredient, index))"
   ]
  },
  {
   "cell_type": "code",
   "execution_count": 19,
   "metadata": {},
   "outputs": [
    {
     "name": "stdout",
     "output_type": "stream",
     "text": [
      "Matches for ingredient identifier:\n",
      "water : 8\n",
      "cold water : 248\n",
      "boiling water : 249\n",
      "warm water : 291\n",
      "hot water : 337\n",
      "in water : 580\n",
      "watercress : 645\n",
      "ice water : 657\n",
      "water chestnuts : 698\n",
      "watermelon : 800\n",
      "seedless watermelon : 1651\n",
      "rose water : 1831\n",
      "soda water : 1909\n",
      "pasta water : 2274\n",
      "orange flower water : 2440\n",
      "filtered water : 2573\n",
      "seltzer water : 2633\n",
      "tap water : 2659\n",
      "spring water : 2825\n",
      "mineral water : 2914\n",
      "carbonated water : 2939\n",
      "tuna packed in water : 3015\n",
      "distilled water : 3142\n",
      "tonic water : 3239\n",
      "coconut water : 3324\n",
      "salt water : 3440\n",
      "watercress leaves : 3497\n"
     ]
    }
   ],
   "source": [
    "find_possible_matches(\"water\")"
   ]
  },
  {
   "cell_type": "code",
   "execution_count": null,
   "metadata": {},
   "outputs": [],
   "source": []
  }
 ],
 "metadata": {
  "kernelspec": {
   "display_name": "Python 3",
   "language": "python",
   "name": "python3"
  },
  "language_info": {
   "codemirror_mode": {
    "name": "ipython",
    "version": 3
   },
   "file_extension": ".py",
   "mimetype": "text/x-python",
   "name": "python",
   "nbconvert_exporter": "python",
   "pygments_lexer": "ipython3",
   "version": "3.7.9"
  }
 },
 "nbformat": 4,
 "nbformat_minor": 4
}
